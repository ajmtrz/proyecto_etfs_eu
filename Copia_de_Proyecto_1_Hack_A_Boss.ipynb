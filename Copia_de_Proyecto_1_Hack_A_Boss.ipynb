{
  "cells": [
    {
      "cell_type": "markdown",
      "metadata": {
        "id": "KVxsvBcI8dUQ"
      },
      "source": [
        "---\n",
        "\n",
        "# Proyecto 1: Hack a Boss\n",
        "## Análisis del Top 25 ETFs\n",
        "\n",
        "Proyecto de análisis del Top 25 de ETFs.\n",
        "\n",
        "---\n",
        "\n",
        "\n",
        "\n"
      ]
    },
    {
      "cell_type": "markdown",
      "metadata": {
        "id": "Fe2VYO2XiTyD"
      },
      "source": [
        "# Instalación e importación de **librerías**"
      ]
    },
    {
      "cell_type": "code",
      "execution_count": null,
      "metadata": {
        "colab": {
          "base_uri": "https://localhost:8080/"
        },
        "id": "rNWwNi4bjsyU",
        "outputId": "f7e885fd-6f68-41a0-ca11-3a93460c8bd2"
      },
      "outputs": [],
      "source": [
        "# Instalar las librerías\n",
        "'''\n",
        "%pip install matplotlib\n",
        "%pip install seaborn\n",
        "%pip install yfinance\n",
        "%pip install yahooquery\n",
        "%pip install airtable-python-wrapper\n",
        "%pip install nbformat\n",
        "%pip install scipy\n",
        "'''\n",
        "%pip install plotly"
      ]
    },
    {
      "cell_type": "code",
      "execution_count": 4,
      "metadata": {
        "id": "MlkMIe84ilo-"
      },
      "outputs": [],
      "source": [
        "# Importar las librerías\n",
        "import time\n",
        "import requests\n",
        "import warnings\n",
        "import numpy as np\n",
        "#import yfinance as yf\n",
        "import yahooquery as yq\n",
        "import pandas as pd\n",
        "import matplotlib.pyplot as plt\n",
        "import seaborn as sns\n",
        "import plotly.express as px\n",
        "from bs4 import BeautifulSoup\n",
        "from pprint import pprint\n",
        "import airtable\n",
        "from tqdm import tqdm\n",
        "from scipy import stats\n",
        "warnings.filterwarnings(\"ignore\")"
      ]
    },
    {
      "cell_type": "markdown",
      "metadata": {
        "id": "SlJUrQZjA1z9"
      },
      "source": [
        "# Descarga y extracción de datos (API y WebScraping)\n",
        "\n",
        "\n",
        "\n"
      ]
    },
    {
      "cell_type": "code",
      "execution_count": 21,
      "metadata": {
        "id": "lxhQ462raPsG"
      },
      "outputs": [],
      "source": [
        "HEADERS = {'User-Agent':'Mozilla/5.0 (Windows NT 10.0; Win64; x64) AppleWebKit/537.36 (KHTML, like Gecko) Chrome/91.0.4472.124 Safari/537.36'}\n",
        "\n",
        "def seleccion_etf(tipo_etfs:str, num:int) -> list:\n",
        "    # Obtención de los símbolos del Top ETFs de EEUU\n",
        "    s = yq.Screener()\n",
        "    dict_query = s.get_screeners(tipo_etfs, num)\n",
        "    tickers = [symbol['symbol'] for symbol in dict_query[tipo_etfs]['quotes']]\n",
        "    return tickers\n",
        "\n",
        "def corregir_nombres_columnas(df_columns:pd.Index) -> pd.Index:\n",
        "    # Eliminar caracteres especiales\n",
        "    df_columns = df_columns.str.replace('[^\\w\\s]', '', regex=True)\n",
        "    # Sustituir espacios por _\n",
        "    df_columns = df_columns.str.replace(' ', '_')\n",
        "    # Retornar el DF\n",
        "    return(df_columns)\n",
        "\n",
        "def convertir_a_largo(df):\n",
        "    # Resetear índice\n",
        "    df_reset = df.reset_index()\n",
        "    # Convertir el dataframe a formato largo\n",
        "    df_melted = df_reset.melt(id_vars='Date', var_name=['Attribute', 'Ticker'], value_name='Value')\n",
        "    # Una columna para cada cosa\n",
        "    df_melted['Attribute'] = df_melted['Attribute'].astype(str)\n",
        "    df_pivoted = df_melted.pivot_table(index=['Date', 'Ticker'], columns='Attribute', values='Value').reset_index()\n",
        "    # Ponerlo todo bien y en orden\n",
        "    df_pivoted.columns.name = None\n",
        "    df_pivoted = df_pivoted[['Date', 'Ticker', 'Adj Close', 'Volume']]\n",
        "    df_pivoted = df_pivoted.rename(\n",
        "        columns={\n",
        "            'Date':'Fecha',\n",
        "            'Ticker':'Ticker',\n",
        "            'Adj Close':'Precio',\n",
        "            'Volume':'Volumen'\n",
        "            }\n",
        "        )\n",
        "    # Retornar dataframe\n",
        "    return df_pivoted\n",
        "\n",
        "def convertir_a_ancho(df_largo):\n",
        "    # Convertir el DataFrame a formato largo\n",
        "    df_wide = df_largo.pivot_table(index='Fecha', columns='Ticker', values=['Precio', 'Volumen'], aggfunc='first')\n",
        "    # Retornar el DataFrame en formato ancho\n",
        "    return df_wide\n",
        "\n",
        "def down_price_vol(tickers:list) -> pd.DataFrame:\n",
        "    # Descarga de las cotizaciones\n",
        "    df = yf.download(tickers, period='max')\n",
        "    # Obtener los nombres de las columnas para 'Adj Close' y 'Volume'\n",
        "    adj_close_cols = [('Adj Close', ticker) for ticker in tickers]\n",
        "    volume_cols = [('Volume', ticker) for ticker in tickers]\n",
        "\n",
        "    # Seleccionar las columnas de interés\n",
        "    df = df[adj_close_cols + volume_cols]\n",
        "    # Eliminar valores nulos y cambiar los precios por incrementos porcentuales\n",
        "    df = df.dropna().pct_change(1).dropna()\n",
        "    df.replace([np.inf, -np.inf], np.nan, inplace=True)\n",
        "    df.dropna(inplace=True)\n",
        "    # Retornar DataFrame\n",
        "    return(df)\n",
        "\n",
        "def web_scraping_sectors(tickers:list) -> pd.DataFrame:\n",
        "    url_base = \"https://es.finance.yahoo.com/quote/\"\n",
        "    lista_sectores = [\n",
        "        \"Materiales básicos\", \"Acciones cíclicas\", \"Servicios financieros\",\n",
        "        \"Propiedades inmobiliarias\", \"Acciones defensivas\", \"Atención sanitaria\",\n",
        "        \"Utilidades\", \"Servicios de comunicación\", \"Energía\", \"Industriales\",\n",
        "        \"Tecnología\"\n",
        "    ]\n",
        "    dict_sectores = {}\n",
        "    for etf in tqdm(tickers):\n",
        "        url = f'{url_base}{etf}/holdings?p={etf}'\n",
        "        response = requests.get(\n",
        "            url,\n",
        "            headers = HEADERS\n",
        "            )\n",
        "        soup = BeautifulSoup(response.text, 'html.parser')\n",
        "        sectores_etf = {}\n",
        "        lista_contenedores = soup.findAll('div', class_='Bdbw(1px) Bdbc($seperatorColor) Bdbs(s) H(25px) Pt(10px)')\n",
        "        for item in lista_contenedores:\n",
        "            sector = item.find('span', class_='Mend(5px) Whs(nw)').text\n",
        "            if sector in lista_sectores:\n",
        "                valor = item.find('span', class_='W(20%) D(b) Fl(start) Ta(e)').text\n",
        "                sectores_etf[sector] = valor\n",
        "        dict_sectores[etf] = sectores_etf\n",
        "        time.sleep(0.5)\n",
        "    # Convertir diccionario en dataframe\n",
        "    df = pd.DataFrame.from_dict(dict_sectores).T\n",
        "    # Convertir todas las entradas a strings, eliminar el '%' y reemplazar comas por puntos\n",
        "    df = df.map(lambda x: str(x).replace('%', '').replace(',', '.'))\n",
        "    # Convertir las cadenas a números flotantes y dividir por 100 para tener los porcentajes en formato decimal\n",
        "    df = df.map(lambda x: float(x) / 100.0 if x != 'N/A' else 0)\n",
        "    # Quitar los espacios\n",
        "    df.columns = corregir_nombres_columnas(df.columns)\n",
        "    # Resetear índice\n",
        "    df = df.reset_index()\n",
        "    df = df.rename(columns={'index':'Ticker'})\n",
        "    # Retornar DataFrame\n",
        "    return (df)\n",
        "\n",
        "def tabla_net_assets(tickers:list) -> pd.DataFrame:\n",
        "    def convertir_valor(valor):\n",
        "        if 'M' in valor:\n",
        "            return float(valor.replace('M', ''))\n",
        "        elif 'B' in valor:\n",
        "            return float(valor.replace('B', '')) * 1000\n",
        "        else:\n",
        "            return float(valor)\n",
        "    #Net assets table\n",
        "    net_assets = pd.DataFrame()\n",
        "    for ticker in tqdm(tickers):\n",
        "        url = f\"https://finance.yahoo.com/quote/{ticker}?p={ticker}\"\n",
        "        response = requests.get(url, headers=HEADERS)\n",
        "        try:\n",
        "            tables = pd.read_html(response.text)\n",
        "            for table in tables:\n",
        "                labels_to_remove = [\"Previous Close\", \"Open\", \"Bid\", \"Ask\", \"Day's Range\", \"52 Week Range\", \"Volume\",\"Avg. Volume\"]\n",
        "                table = table[~table.iloc[:, 0].isin(labels_to_remove)]\n",
        "                data_series = pd.Series(dict(zip(table.iloc[:, 0], table.iloc[:, 1])))\n",
        "                net_assets[ticker] = data_series\n",
        "        except ValueError:\n",
        "            print(f\"No hay tablas para {ticker}\")\n",
        "        time.sleep(0.5)\n",
        "    net_assets = net_assets.T\n",
        "    # Eliminar columnas\n",
        "    df = net_assets.drop(['NAV', 'PE Ratio (TTM)', 'Expense Ratio (net)'], axis=1)\n",
        "    # Corregir nombres de columnas\n",
        "    df.columns = corregir_nombres_columnas(df.columns)\n",
        "    # Convertir todas las entradas a strings, eliminar el '%' y reemplazar comas por puntos\n",
        "    df[['Yield', 'YTD_Daily_Total_Return']] = df[['Yield', 'YTD_Daily_Total_Return']].map(lambda x: str(x).replace('%', ''))\n",
        "    # Convertir las cadenas a números flotantes y dividir por 100 para tener los porcentajes en formato decimal\n",
        "    df[['Yield', 'YTD_Daily_Total_Return']] = df[['Yield', 'YTD_Daily_Total_Return']].map(lambda x: float(x) / 100.0)\n",
        "    # Convertir la columna Beta a float\n",
        "    df['Beta_5Y_Monthly'] = df['Beta_5Y_Monthly'].astype(float)\n",
        "    # Convertir Inception_Date en datetime\n",
        "    df['Inception_Date'] = pd.to_datetime(df['Inception_Date'], format='%Y-%m-%d')\n",
        "    # Reformatear columna Net_Assets\n",
        "    df['Net_Assets_Millions'] = df['Net_Assets'].apply(convertir_valor)\n",
        "    df = df.drop('Net_Assets', axis=1)\n",
        "    # Resetear índice\n",
        "    df = df.reset_index()\n",
        "    df = df.rename(columns={'index':'Ticker'})\n",
        "    # Retornar df\n",
        "    return(df)\n",
        "\n",
        "def portafolio_activos_etfs(tickers:list)->pd.DataFrame:\n",
        "    all_dataframes = []\n",
        "    for ticker in tqdm(tickers):\n",
        "        url = f\"https://finance.yahoo.com/quote/{ticker}/holdings?p={ticker}\"\n",
        "        response = requests.get(url, headers=HEADERS)\n",
        "        try:\n",
        "            tables = pd.read_html(response.text)\n",
        "            for table in tables:\n",
        "                table['Ticker'] = ticker  # Add the 'Ticker' column\n",
        "                all_dataframes.append(table)\n",
        "        except ValueError:\n",
        "            print(f\"No tables found for {ticker}\")\n",
        "        time.sleep(0.5)\n",
        "    # Concatenate all dataframes\n",
        "    df = pd.concat(all_dataframes, ignore_index=True)\n",
        "    # Corregir nombres de columnas\n",
        "    df.columns = corregir_nombres_columnas(df.columns)\n",
        "    df.rename(columns={\"_Assets\":\"Assets\"}, inplace=True)\n",
        "    # Convertir todas las entradas a strings, eliminar el '%' y reemplazar comas por puntos\n",
        "    df['Assets'] = df['Assets'].map(lambda x: str(x).replace('%', ''))\n",
        "    # Convertir las cadenas a números flotantes y dividir por 100 para tener los porcentajes en formato decimal\n",
        "    df['Assets'] = df['Assets'].map(lambda x: float(x) / 100.0)\n",
        "    # Retornar df\n",
        "    return(df)"
      ]
    },
    {
      "cell_type": "code",
      "execution_count": 7,
      "metadata": {},
      "outputs": [],
      "source": [
        "# Selección ETFs\n",
        "tickers = [\n",
        "    'KARS', 'CQQQ', 'EVX', 'EWM', 'CNXT',\n",
        "    'LIT', 'SLX', 'KURE', 'GSJY', 'KGRN',\n",
        "    'MOTG', 'HTUS', 'IQDY', 'CZA', 'UTRN',\n",
        "    'EMXC', 'LEAD', 'MFEM', 'MFUS', 'TUR',\n",
        "    'TOK', 'IDX', 'SPMO', 'EWW', 'SPXE'\n",
        "]"
      ]
    },
    {
      "cell_type": "code",
      "execution_count": 10,
      "metadata": {
        "id": "hmhqF1XRBXjT"
      },
      "outputs": [
        {
          "name": "stdout",
          "output_type": "stream",
          "text": [
            "[*********************100%%**********************]  25 of 25 completed\n"
          ]
        },
        {
          "name": "stderr",
          "output_type": "stream",
          "text": [
            "100%|██████████| 25/25 [06:27<00:00, 15.51s/it]\n",
            "100%|██████████| 25/25 [00:47<00:00,  1.91s/it]\n",
            "100%|██████████| 25/25 [00:47<00:00,  1.89s/it]\n"
          ]
        }
      ],
      "source": [
        "# Descargar y extraer todos los datos\n",
        "df_price_vol = convertir_a_largo(down_price_vol(tickers))\n",
        "df_sect_dist = web_scraping_sectors(tickers)\n",
        "df_net_activos = tabla_net_assets(tickers)\n",
        "df_portafolio_activos = portafolio_activos_etfs(tickers)"
      ]
    },
    {
      "cell_type": "code",
      "execution_count": 12,
      "metadata": {},
      "outputs": [
        {
          "name": "stdout",
          "output_type": "stream",
          "text": [
            "[*********************100%%**********************]  1 of 1 completed\n"
          ]
        }
      ],
      "source": [
        "# Obtener el índice de referencia\n",
        "df_price_vol_temp = convertir_a_ancho(df_price_vol)\n",
        "sp500 = yf.download(tickers = '^GSPC', period='max')\n",
        "sp500 = sp500['Adj Close'].dropna().pct_change(1).dropna()\n",
        "sp500.index.name = 'Fecha'\n",
        "sp500 = sp500.reindex(df_price_vol_temp.index)\n",
        "# Se calcula la Beta y se asigna a la columna\n",
        "for ticker in tickers:\n",
        "    beta = df_price_vol_temp[('Precio', ticker)].cov(sp500) / sp500.var()\n",
        "    df_net_activos.loc[df_net_activos['Ticker'] == ticker, 'Beta_5Y_Monthly'] = beta"
      ]
    },
    {
      "cell_type": "markdown",
      "metadata": {
        "id": "hmhqF1XRBXjT"
      },
      "source": [
        "# Carga de datos a Airtable"
      ]
    },
    {
      "cell_type": "code",
      "execution_count": 17,
      "metadata": {},
      "outputs": [],
      "source": [
        "# Parámetros de airtable y creación del objeto airtable\n",
        "base_id = 'app8fsCvHI7Tau4le'\n",
        "api_key = 'patyBg6zyoW4EXNI7.205cca8c88a716fa4010850bd58995623d060734e24fa937be40f428d3bfb7fe'"
      ]
    },
    {
      "cell_type": "code",
      "execution_count": 18,
      "metadata": {},
      "outputs": [],
      "source": [
        "# Definir tabla id con dataframe\n",
        "lista_dataframes = [\n",
        "    ('tblkKLqcgl5dDo6uI', df_price_vol),\n",
        "    ('tblWV2ERYBOrXozth', df_sect_dist),\n",
        "    ('tblvbY1n5rzmFyBqZ', df_net_activos),\n",
        "    ('tblvxs74FGznyUCfL', df_portafolio_activos)\n",
        "    ]"
      ]
    },
    {
      "cell_type": "code",
      "execution_count": 19,
      "metadata": {
        "id": "t5ckS1EcBdJw"
      },
      "outputs": [],
      "source": [
        "# Bucle para subir los datos a Airtabl\n",
        "for tabla_id, dataframe in lista_dataframes:\n",
        "    air = airtable.Airtable(base_id=base_id, table_name=tabla_id, api_key=api_key)\n",
        "    # Convertir las columnas datetime a stings\n",
        "    for col in dataframe.columns:\n",
        "        if pd.api.types.is_datetime64_any_dtype(dataframe[col]):\n",
        "            dataframe[col] = dataframe[col].dt.strftime('%Y-%m-%d')\n",
        "    # Subir en lotes de 10\n",
        "    for i in range(0, len(dataframe), 10):\n",
        "        bloque = dataframe.iloc[i:i+10]\n",
        "        registros = bloque.to_dict(orient=\"records\")\n",
        "        air.batch_insert(registros)"
      ]
    },
    {
      "cell_type": "markdown",
      "metadata": {},
      "source": [
        "# Visualizaciones Estadísticas"
      ]
    },
    {
      "cell_type": "code",
      "execution_count": 20,
      "metadata": {},
      "outputs": [],
      "source": [
        "# Parámetros de airtable y creación del objeto\n",
        "base_id = 'app8fsCvHI7Tau4le'\n",
        "api_key = 'patyBg6zyoW4EXNI7.205cca8c88a716fa4010850bd58995623d060734e24fa937be40f428d3bfb7fe'"
      ]
    },
    {
      "cell_type": "code",
      "execution_count": 22,
      "metadata": {},
      "outputs": [],
      "source": [
        "### Descarga de datos desde Airtable ###\n",
        "# Dataframe sectores\n",
        "air = airtable.Airtable(base_id=base_id, table_name='tblWV2ERYBOrXozth', api_key=api_key)\n",
        "lista_de_diccionarios = air.get_all()\n",
        "lista_de_fields = [d['fields'] for d in lista_de_diccionarios]\n",
        "df_divsf_sect = pd.DataFrame(lista_de_fields)\n",
        "# Dataframe de activos netos\n",
        "air = airtable.Airtable(base_id=base_id, table_name='tblvbY1n5rzmFyBqZ', api_key=api_key)\n",
        "lista_de_diccionarios = air.get_all()\n",
        "lista_de_fields = [d['fields'] for d in lista_de_diccionarios]\n",
        "df_divsf_activos = pd.DataFrame(lista_de_fields)\n",
        "df_divsf_activos_reducido = df_divsf_activos[['Ticker', 'Yield', 'Beta_5Y_Monthly']]\n",
        "# Merge\n",
        "df_divsf_rend = pd.merge(df_divsf_sect, df_divsf_activos_reducido, on='Ticker', how='right')\n",
        "df_divsf_rend = df_divsf_rend.rename(columns={'Yield':'Rentabilidad', 'Beta_5Y_Monthly':'Riesgo'})"
      ]
    },
    {
      "cell_type": "code",
      "execution_count": 23,
      "metadata": {
        "id": "shpoLlI7BhP4"
      },
      "outputs": [
        {
          "data": {
            "image/png": "[encoded data removed]",
            "text/plain": [
              "<Figure size 1400x700 with 1 Axes>"
            ]
          },
          "metadata": {},
          "output_type": "display_data"
        }
      ],
      "source": [
        "### Identificar el sector con la mayor inversión en promedio ###\n",
        "# Cálculo y selección\n",
        "sector_columns = df_divsf_rend.columns[2:-3]\n",
        "df_grafico_1 = df_divsf_rend[sector_columns].mean().sort_values(ascending=False)\n",
        "# Visualización\n",
        "plt.figure(figsize=(14,7))\n",
        "df_grafico_1.plot(kind='bar', color='skyblue')\n",
        "plt.title('Inversión Promedio en Cada Sector')\n",
        "plt.xlabel('Sectores')\n",
        "plt.ylabel('Inversión Promedio (Proporción)')\n",
        "plt.xticks(rotation=45)\n",
        "plt.tight_layout()\n",
        "plt.show()"
      ]
    },
    {
      "cell_type": "code",
      "execution_count": 24,
      "metadata": {},
      "outputs": [
        {
          "data": {
            "image/png": "[encoded data removed]",
            "text/plain": [
              "<Figure size 1400x700 with 1 Axes>"
            ]
          },
          "metadata": {},
          "output_type": "display_data"
        }
      ],
      "source": [
        "### Determinar el umbral para los ETFs más rentables (el cuartil superior) ###\n",
        "quantil_rentabilidad = df_divsf_rend['Rentabilidad'].quantile(0.75)\n",
        "etfs_mas_rentables = df_divsf_rend[df_divsf_rend['Rentabilidad'] >= quantil_rentabilidad]\n",
        "# Calcular\n",
        "df_grafico_2 = etfs_mas_rentables[sector_columns].mean().sort_values(ascending=False)\n",
        "# Visualizar\n",
        "plt.figure(figsize=(14,7))\n",
        "df_grafico_2.plot(kind='bar', color='green')\n",
        "plt.title('Inversión Promedio en Cada Sector para los ETFs más Rentables')\n",
        "plt.xlabel('Sectores')\n",
        "plt.ylabel('Inversión Promedio (Proporción)')\n",
        "plt.xticks(rotation=45)\n",
        "plt.tight_layout()\n",
        "plt.show()"
      ]
    },
    {
      "cell_type": "code",
      "execution_count": 25,
      "metadata": {},
      "outputs": [
        {
          "data": {
            "image/png": "[encoded data removed]",
            "text/plain": [
              "<Figure size 800x600 with 1 Axes>"
            ]
          },
          "metadata": {},
          "output_type": "display_data"
        }
      ],
      "source": [
        "### Top rentabilidad-riesgo ETFs ###\n",
        "plt.figure(figsize=(8, 6))\n",
        "sns.set_style(\"whitegrid\")\n",
        "sns.scatterplot(data=df_divsf_activos, x=\"Beta_5Y_Monthly\", y=\"Yield\")\n",
        "plt.title(\"Relación entre Riesgo (Beta) y Rentabilidad (Yield)\")\n",
        "plt.xlabel(\"Beta 5Y Monthly\")\n",
        "plt.ylabel(\"Yield\")\n",
        "plt.show()"
      ]
    },
    {
      "cell_type": "code",
      "execution_count": 26,
      "metadata": {},
      "outputs": [],
      "source": [
        "### Descarga de datos desde Airtable ###\n",
        "air = airtable.Airtable(base_id=base_id, table_name='tblvxs74FGznyUCfL', api_key=api_key)\n",
        "lista_de_diccionarios = air.get_all()\n",
        "lista_de_fields = [d['fields'] for d in lista_de_diccionarios]\n",
        "df_activos_repiten = pd.DataFrame(lista_de_fields)"
      ]
    },
    {
      "cell_type": "code",
      "execution_count": 27,
      "metadata": {},
      "outputs": [
        {
          "data": {
            "application/vnd.plotly.v1+json": {
              "config": {
                "plotlyServerURL": "https://plot.ly"
              },
              "data": [
                {
                  "alignmentgroup": "True",
                  "hovertemplate": "Symbol=%{x}<br>Median Assets=%{y}<br>Repeticiones=%{marker.color}<extra></extra>",
                  "legendgroup": "",
                  "marker": {
                    "color": [
                      4,
                      4,
                      4,
                      3,
                      3,
                      3,
                      2,
                      2,
                      2,
                      2,
                      2,
                      2,
                      2,
                      2,
                      2,
                      2,
                      2,
                      2,
                      2,
                      2,
                      2,
                      2,
                      2,
                      2,
                      2,
                      2,
                      2,
                      2,
                      2,
                      2,
                      2,
                      2
                    ],
                    "coloraxis": "coloraxis",
                    "pattern": {
                      "shape": ""
                    }
                  },
                  "name": "",
                  "offsetgroup": "",
                  "orientation": "v",
                  "showlegend": false,
                  "text": [
                    "SK Hynix Inc",
                    "NAURA Technology Group Co Ltd Class A",
                    "Tianqi Lithium Industries Inc Class A",
                    "BYD Co Ltd Class A",
                    "Hyundai Motor Co",
                    "POSCO Holdings Inc",
                    "Samsung Electronics Co Ltd",
                    "Samsung SDI Co Ltd",
                    "China Longyuan Power Group Corp Ltd Class H",
                    "BYD Co Ltd Class H",
                    "Geely Automobile Holdings Ltd",
                    "Kingdee International Software Group Co Ltd",
                    "China Petroleum & Chemical Corp Class H",
                    "Tencent Holdings Ltd",
                    "Xinyi Solar Holdings Ltd",
                    "CIMB Group Holdings Bhd",
                    "Kuaishou Technology Ordinary Shares - Class B",
                    "CSPC Pharmaceutical Group Ltd",
                    "Malayan Banking Bhd",
                    "Public Bank Bhd",
                    "Yadea Group Holdings Ltd Shs Unitary 144A/RegS",
                    "Innovent Biologics Inc",
                    "Li Auto Inc Ordinary Shares - Class A",
                    "WuXi Biologics (Cayman) Inc",
                    "Hon Hai Precision Industry Co Ltd",
                    "Taiwan Semiconductor Manufacturing Co Ltd",
                    "Sunny Optical Technology (Group) Co Ltd",
                    "Quanta Computer Inc",
                    "MediaTek Inc",
                    "EVE Energy Co Ltd Class A",
                    "Aier Eye Hospital Group Co Ltd Class A",
                    "East Money Information Co Ltd Class A",
                    "Chongqing Zhifei Biological Products Co Ltd Class A",
                    "Shenzhen Inovance Technology Co Ltd Class A",
                    "Sungrow Power Supply Co Ltd Class A",
                    "Zhongji Innolight Co Ltd Class A",
                    "Wens Foodstuff Group Co Ltd Class A",
                    "Contemporary Amperex Technology Co Ltd Class A",
                    "Shenzhen Mindray Bio-Medical Electronics Co Ltd Class A",
                    "Wistron Corp",
                    "Meituan Class B",
                    "Kingsoft Corp Ltd",
                    "Zhuzhou CRRC Times Electric Co Ltd Class H",
                    "Shin-Etsu Chemical Co Ltd",
                    "Petronas Chemicals Group Bhd",
                    "IHH Healthcare Bhd",
                    "Tenaga Nasional Bhd",
                    "Hong Leong Bank Bhd",
                    "Jiangsu Hengrui Pharmaceuticals Co Ltd Class A",
                    "Zhangzhou Pientzehuang Pharmaceutical Co Ltd Class A",
                    "Sanan Optoelectronics Co Ltd Class A",
                    "LONGi Green Energy Technology Co Ltd Class A",
                    "Wuxi AppTec Co Ltd Class A",
                    "Petronas Gas Bhd",
                    "BeiGene Ltd Ordinary Shares",
                    "Hitachi Ltd",
                    "Nidec Corp",
                    "Panasonic Holdings Corp",
                    "Sony Group Corp",
                    "TDK Corp",
                    "Keyence Corp",
                    "CelcomDigi Bhd",
                    "Toyota Motor Corp",
                    "Honda Motor Co Ltd",
                    "Mitsui & Co Ltd",
                    "Tokyo Electron Ltd",
                    "Mitsubishi Corp",
                    "Mitsubishi UFJ Financial Group Inc",
                    "Sumitomo Mitsui Financial Group Inc",
                    "Press Metal Aluminium Holdings Bhd",
                    "Bilibili Inc Class Z",
                    "XPeng Inc Class A",
                    "Baidu Inc",
                    "Apple Inc",
                    "Anheuser-Busch InBev SA/NV",
                    "ABM Industries Inc",
                    "Arca Continental SAB de CV",
                    "PT Adaro Energy Indonesia Tbk",
                    "Akbank TAS",
                    "Albemarle Corp",
                    "America Movil SAB de CV Ordinary Shares - Class B",
                    "Amazon.com Inc",
                    "Aptiv PLC",
                    "Aselsan Elektronik Sanayi Ve Ticaret AS",
                    "PT Astra International Tbk",
                    "ASML Holding NV",
                    "AvalonBay Communities Inc",
                    "Broadcom Inc",
                    "American Water Works Co Inc",
                    "PT Bank Central Asia Tbk",
                    "PT Bank Negara Indonesia (Persero) Tbk Registered Shs Series -B-",
                    "PT Bank Rakyat Indonesia (Persero) Tbk Registered Shs Series -B-",
                    "Franklin Resources Inc",
                    "BHP Group Ltd",
                    "Bim Birlesik Magazalar AS",
                    "Grupo Bimbo SAB de CV Class A",
                    "Bank of New York Mellon Corp",
                    "Bank of Montreal",
                    "PT Bank Mandiri (Persero) Tbk",
                    "Berkshire Hathaway Inc Class B",
                    "Cemex SAB de CV",
                    "Compagnie Financiere Richemont SA Class A",
                    "Cleveland-Cliffs Inc",
                    "Clean Harbors Inc",
                    "Canadian Natural Resources Ltd",
                    "PT Charoen Pokphand Indonesia Tbk",
                    "Cisco Systems Inc",
                    "Donaldson Co Inc",
                    "Dollar General Corp",
                    "Ecolab Inc",
                    "Emerson Electric Co",
                    "EOG Resources Inc",
                    "Equity Residential",
                    "Extra Space Storage Inc",
                    "Fomento Economico Mexicano SAB de CV Units Cons. Of 1 Shs-B- And 4 Shs-D-",
                    "First American Government Obligs X",
                    "Ford Otomotiv Sanayi AS",
                    "Fortive Corp",
                    "Fibra Uno Administracion SA de CV Certificados Bursatiles Fiduciarios Inmob",
                    "General Electric Co",
                    "Grupo Financiero Inbursa SAB de CV Series O",
                    "Grupo Financiero Banorte SAB de CV Class O",
                    "Gilead Sciences Inc",
                    "Corning Inc",
                    "Grupo Mexico SAB de CV",
                    "Alphabet Inc Class C",
                    "Alphabet Inc Class A",
                    "PT Goto Gojek Tokopedia Tbk",
                    "Garmin Ltd",
                    "The Home Depot Inc",
                    "HDFC Bank Ltd",
                    "The Hartford Financial Services Group Inc",
                    "Honeywell International Inc",
                    "The Hershey Co",
                    "International Business Machines Corp",
                    "ICICI Bank Ltd",
                    "Imperial Brands PLC",
                    "Infosys Ltd",
                    "Ingersoll Rand Inc",
                    "Turkiye Is Bankasi AS Class C",
                    "JPMorgan Chase & Co",
                    "Koc Holding AS",
                    "L3Harris Technologies Inc",
                    "Eli Lilly and Co",
                    "Mastercard Inc Class A",
                    "McKesson Corp",
                    "Meta Platforms Inc Class A",
                    "Merck & Co Inc",
                    "Microsoft Corp",
                    "ArcelorMittal SA Depository Receipt",
                    "Nasdaq Inc",
                    "Nordson Corp",
                    "Netflix Inc",
                    "NIO Inc ADR",
                    "Nike Inc Class B",
                    "Nucor Corp",
                    "NVIDIA Corp",
                    "L'Oreal SA",
                    "Oracle Corp",
                    "PDD Holdings Inc ADR",
                    "Petroleo Brasileiro SA Petrobras Participating Preferred",
                    "POSCO Holdings Inc ADR",
                    "Reliance Industries Ltd",
                    "Regions Financial Corp",
                    "Rio Tinto PLC ADR",
                    "Rivian Automotive Inc Class A",
                    "Reliance Steel & Aluminum Co",
                    "Republic Services Inc",
                    "Royal Bank of Canada",
                    "Singapore Exchange Ltd",
                    "Safran SA",
                    "Sherwin-Williams Co",
                    "Turkiye Sise ve Cam Fabrikalari AS",
                    "Simon Property Group Inc",
                    "SPDR® S&P 500 ETF Trust",
                    "Steris PLC",
                    "Steel Dynamics Inc",
                    "AT&T Inc",
                    "Turkcell Iletisim Hizmetleri AS",
                    "Tata Consultancy Services Ltd",
                    "Turk Hava Yollari AO",
                    "PT Telkom Indonesia (Persero) Tbk ADR",
                    "Tennant Co",
                    "Tenaris SA ADR",
                    "Tesla Inc",
                    "Tetra Tech Inc",
                    "Tupras-Turkiye Petrol Rafineleri AS",
                    "UnitedHealth Group Inc",
                    "Vale SA ADR",
                    "Vale SA",
                    "Wal - Mart de Mexico SAB de CV",
                    "Waste Connections Inc",
                    "Wells Fargo & Co",
                    "Waste Management Inc",
                    "Walmart Inc",
                    "Willis Towers Watson PLC",
                    "United States Steel Corp",
                    "Exxon Mobil Corp",
                    "Yum China Holdings Inc"
                  ],
                  "textposition": "outside",
                  "type": "bar",
                  "x": [
                    "01211",
                    "WM",
                    "RSG",
                    "ECL",
                    "2015.HK",
                    "300750.SZ",
                    "MSFT",
                    "300760.SZ",
                    "AAPL",
                    "ALB",
                    "2330.TW",
                    "6752.T",
                    "NUE",
                    "MCK",
                    "AMZN",
                    "NVDA",
                    "300015.SZ",
                    "TSLA",
                    "300014.SZ",
                    "300122.SZ",
                    "WMT",
                    "MRK",
                    "ORCL",
                    "META",
                    "GOOGL",
                    "LLY",
                    "GOOG",
                    "6501.T",
                    "UNH",
                    "2317.TW",
                    "VALE3.SA",
                    "2454.TW"
                  ],
                  "xaxis": "x",
                  "y": [
                    0.08199999999999999,
                    0.08065,
                    0.0789,
                    0.07495,
                    0.06515,
                    0.06459999999999999,
                    0.061450000000000005,
                    0.058050000000000004,
                    0.0541,
                    0.05255,
                    0.051000000000000004,
                    0.047850000000000004,
                    0.0467,
                    0.03315,
                    0.030350000000000002,
                    0.03,
                    0.0298,
                    0.02975,
                    0.0291,
                    0.02675,
                    0.0235,
                    0.0233,
                    0.0218,
                    0.0188,
                    0.018349999999999998,
                    0.0175,
                    0.01605,
                    0.014350000000000002,
                    0.012400000000000001,
                    0.0109,
                    0.01015,
                    0.009399999999999999
                  ],
                  "yaxis": "y"
                }
              ],
              "layout": {
                "barmode": "relative",
                "coloraxis": {
                  "colorbar": {
                    "title": {
                      "text": "Repeticiones"
                    }
                  },
                  "colorscale": [
                    [
                      0,
                      "#440154"
                    ],
                    [
                      0.1111111111111111,
                      "#482878"
                    ],
                    [
                      0.2222222222222222,
                      "#3e4989"
                    ],
                    [
                      0.3333333333333333,
                      "#31688e"
                    ],
                    [
                      0.4444444444444444,
                      "#26828e"
                    ],
                    [
                      0.5555555555555556,
                      "#1f9e89"
                    ],
                    [
                      0.6666666666666666,
                      "#35b779"
                    ],
                    [
                      0.7777777777777778,
                      "#6ece58"
                    ],
                    [
                      0.8888888888888888,
                      "#b5de2b"
                    ],
                    [
                      1,
                      "#fde725"
                    ]
                  ],
                  "showscale": false
                },
                "legend": {
                  "tracegroupgap": 0
                },
                "template": {
                  "data": {
                    "bar": [
                      {
                        "error_x": {
                          "color": "#2a3f5f"
                        },
                        "error_y": {
                          "color": "#2a3f5f"
                        },
                        "marker": {
                          "line": {
                            "color": "#E5ECF6",
                            "width": 0.5
                          },
                          "pattern": {
                            "fillmode": "overlay",
                            "size": 10,
                            "solidity": 0.2
                          }
                        },
                        "type": "bar"
                      }
                    ],
                    "barpolar": [
                      {
                        "marker": {
                          "line": {
                            "color": "#E5ECF6",
                            "width": 0.5
                          },
                          "pattern": {
                            "fillmode": "overlay",
                            "size": 10,
                            "solidity": 0.2
                          }
                        },
                        "type": "barpolar"
                      }
                    ],
                    "carpet": [
                      {
                        "aaxis": {
                          "endlinecolor": "#2a3f5f",
                          "gridcolor": "white",
                          "linecolor": "white",
                          "minorgridcolor": "white",
                          "startlinecolor": "#2a3f5f"
                        },
                        "baxis": {
                          "endlinecolor": "#2a3f5f",
                          "gridcolor": "white",
                          "linecolor": "white",
                          "minorgridcolor": "white",
                          "startlinecolor": "#2a3f5f"
                        },
                        "type": "carpet"
                      }
                    ],
                    "choropleth": [
                      {
                        "colorbar": {
                          "outlinewidth": 0,
                          "ticks": ""
                        },
                        "type": "choropleth"
                      }
                    ],
                    "contour": [
                      {
                        "colorbar": {
                          "outlinewidth": 0,
                          "ticks": ""
                        },
                        "colorscale": [
                          [
                            0,
                            "#0d0887"
                          ],
                          [
                            0.1111111111111111,
                            "#46039f"
                          ],
                          [
                            0.2222222222222222,
                            "#7201a8"
                          ],
                          [
                            0.3333333333333333,
                            "#9c179e"
                          ],
                          [
                            0.4444444444444444,
                            "#bd3786"
                          ],
                          [
                            0.5555555555555556,
                            "#d8576b"
                          ],
                          [
                            0.6666666666666666,
                            "#ed7953"
                          ],
                          [
                            0.7777777777777778,
                            "#fb9f3a"
                          ],
                          [
                            0.8888888888888888,
                            "#fdca26"
                          ],
                          [
                            1,
                            "#f0f921"
                          ]
                        ],
                        "type": "contour"
                      }
                    ],
                    "contourcarpet": [
                      {
                        "colorbar": {
                          "outlinewidth": 0,
                          "ticks": ""
                        },
                        "type": "contourcarpet"
                      }
                    ],
                    "heatmap": [
                      {
                        "colorbar": {
                          "outlinewidth": 0,
                          "ticks": ""
                        },
                        "colorscale": [
                          [
                            0,
                            "#0d0887"
                          ],
                          [
                            0.1111111111111111,
                            "#46039f"
                          ],
                          [
                            0.2222222222222222,
                            "#7201a8"
                          ],
                          [
                            0.3333333333333333,
                            "#9c179e"
                          ],
                          [
                            0.4444444444444444,
                            "#bd3786"
                          ],
                          [
                            0.5555555555555556,
                            "#d8576b"
                          ],
                          [
                            0.6666666666666666,
                            "#ed7953"
                          ],
                          [
                            0.7777777777777778,
                            "#fb9f3a"
                          ],
                          [
                            0.8888888888888888,
                            "#fdca26"
                          ],
                          [
                            1,
                            "#f0f921"
                          ]
                        ],
                        "type": "heatmap"
                      }
                    ],
                    "heatmapgl": [
                      {
                        "colorbar": {
                          "outlinewidth": 0,
                          "ticks": ""
                        },
                        "colorscale": [
                          [
                            0,
                            "#0d0887"
                          ],
                          [
                            0.1111111111111111,
                            "#46039f"
                          ],
                          [
                            0.2222222222222222,
                            "#7201a8"
                          ],
                          [
                            0.3333333333333333,
                            "#9c179e"
                          ],
                          [
                            0.4444444444444444,
                            "#bd3786"
                          ],
                          [
                            0.5555555555555556,
                            "#d8576b"
                          ],
                          [
                            0.6666666666666666,
                            "#ed7953"
                          ],
                          [
                            0.7777777777777778,
                            "#fb9f3a"
                          ],
                          [
                            0.8888888888888888,
                            "#fdca26"
                          ],
                          [
                            1,
                            "#f0f921"
                          ]
                        ],
                        "type": "heatmapgl"
                      }
                    ],
                    "histogram": [
                      {
                        "marker": {
                          "pattern": {
                            "fillmode": "overlay",
                            "size": 10,
                            "solidity": 0.2
                          }
                        },
                        "type": "histogram"
                      }
                    ],
                    "histogram2d": [
                      {
                        "colorbar": {
                          "outlinewidth": 0,
                          "ticks": ""
                        },
                        "colorscale": [
                          [
                            0,
                            "#0d0887"
                          ],
                          [
                            0.1111111111111111,
                            "#46039f"
                          ],
                          [
                            0.2222222222222222,
                            "#7201a8"
                          ],
                          [
                            0.3333333333333333,
                            "#9c179e"
                          ],
                          [
                            0.4444444444444444,
                            "#bd3786"
                          ],
                          [
                            0.5555555555555556,
                            "#d8576b"
                          ],
                          [
                            0.6666666666666666,
                            "#ed7953"
                          ],
                          [
                            0.7777777777777778,
                            "#fb9f3a"
                          ],
                          [
                            0.8888888888888888,
                            "#fdca26"
                          ],
                          [
                            1,
                            "#f0f921"
                          ]
                        ],
                        "type": "histogram2d"
                      }
                    ],
                    "histogram2dcontour": [
                      {
                        "colorbar": {
                          "outlinewidth": 0,
                          "ticks": ""
                        },
                        "colorscale": [
                          [
                            0,
                            "#0d0887"
                          ],
                          [
                            0.1111111111111111,
                            "#46039f"
                          ],
                          [
                            0.2222222222222222,
                            "#7201a8"
                          ],
                          [
                            0.3333333333333333,
                            "#9c179e"
                          ],
                          [
                            0.4444444444444444,
                            "#bd3786"
                          ],
                          [
                            0.5555555555555556,
                            "#d8576b"
                          ],
                          [
                            0.6666666666666666,
                            "#ed7953"
                          ],
                          [
                            0.7777777777777778,
                            "#fb9f3a"
                          ],
                          [
                            0.8888888888888888,
                            "#fdca26"
                          ],
                          [
                            1,
                            "#f0f921"
                          ]
                        ],
                        "type": "histogram2dcontour"
                      }
                    ],
                    "mesh3d": [
                      {
                        "colorbar": {
                          "outlinewidth": 0,
                          "ticks": ""
                        },
                        "type": "mesh3d"
                      }
                    ],
                    "parcoords": [
                      {
                        "line": {
                          "colorbar": {
                            "outlinewidth": 0,
                            "ticks": ""
                          }
                        },
                        "type": "parcoords"
                      }
                    ],
                    "pie": [
                      {
                        "automargin": true,
                        "type": "pie"
                      }
                    ],
                    "scatter": [
                      {
                        "fillpattern": {
                          "fillmode": "overlay",
                          "size": 10,
                          "solidity": 0.2
                        },
                        "type": "scatter"
                      }
                    ],
                    "scatter3d": [
                      {
                        "line": {
                          "colorbar": {
                            "outlinewidth": 0,
                            "ticks": ""
                          }
                        },
                        "marker": {
                          "colorbar": {
                            "outlinewidth": 0,
                            "ticks": ""
                          }
                        },
                        "type": "scatter3d"
                      }
                    ],
                    "scattercarpet": [
                      {
                        "marker": {
                          "colorbar": {
                            "outlinewidth": 0,
                            "ticks": ""
                          }
                        },
                        "type": "scattercarpet"
                      }
                    ],
                    "scattergeo": [
                      {
                        "marker": {
                          "colorbar": {
                            "outlinewidth": 0,
                            "ticks": ""
                          }
                        },
                        "type": "scattergeo"
                      }
                    ],
                    "scattergl": [
                      {
                        "marker": {
                          "colorbar": {
                            "outlinewidth": 0,
                            "ticks": ""
                          }
                        },
                        "type": "scattergl"
                      }
                    ],
                    "scattermapbox": [
                      {
                        "marker": {
                          "colorbar": {
                            "outlinewidth": 0,
                            "ticks": ""
                          }
                        },
                        "type": "scattermapbox"
                      }
                    ],
                    "scatterpolar": [
                      {
                        "marker": {
                          "colorbar": {
                            "outlinewidth": 0,
                            "ticks": ""
                          }
                        },
                        "type": "scatterpolar"
                      }
                    ],
                    "scatterpolargl": [
                      {
                        "marker": {
                          "colorbar": {
                            "outlinewidth": 0,
                            "ticks": ""
                          }
                        },
                        "type": "scatterpolargl"
                      }
                    ],
                    "scatterternary": [
                      {
                        "marker": {
                          "colorbar": {
                            "outlinewidth": 0,
                            "ticks": ""
                          }
                        },
                        "type": "scatterternary"
                      }
                    ],
                    "surface": [
                      {
                        "colorbar": {
                          "outlinewidth": 0,
                          "ticks": ""
                        },
                        "colorscale": [
                          [
                            0,
                            "#0d0887"
                          ],
                          [
                            0.1111111111111111,
                            "#46039f"
                          ],
                          [
                            0.2222222222222222,
                            "#7201a8"
                          ],
                          [
                            0.3333333333333333,
                            "#9c179e"
                          ],
                          [
                            0.4444444444444444,
                            "#bd3786"
                          ],
                          [
                            0.5555555555555556,
                            "#d8576b"
                          ],
                          [
                            0.6666666666666666,
                            "#ed7953"
                          ],
                          [
                            0.7777777777777778,
                            "#fb9f3a"
                          ],
                          [
                            0.8888888888888888,
                            "#fdca26"
                          ],
                          [
                            1,
                            "#f0f921"
                          ]
                        ],
                        "type": "surface"
                      }
                    ],
                    "table": [
                      {
                        "cells": {
                          "fill": {
                            "color": "#EBF0F8"
                          },
                          "line": {
                            "color": "white"
                          }
                        },
                        "header": {
                          "fill": {
                            "color": "#C8D4E3"
                          },
                          "line": {
                            "color": "white"
                          }
                        },
                        "type": "table"
                      }
                    ]
                  },
                  "layout": {
                    "annotationdefaults": {
                      "arrowcolor": "#2a3f5f",
                      "arrowhead": 0,
                      "arrowwidth": 1
                    },
                    "autotypenumbers": "strict",
                    "coloraxis": {
                      "colorbar": {
                        "outlinewidth": 0,
                        "ticks": ""
                      }
                    },
                    "colorscale": {
                      "diverging": [
                        [
                          0,
                          "#8e0152"
                        ],
                        [
                          0.1,
                          "#c51b7d"
                        ],
                        [
                          0.2,
                          "#de77ae"
                        ],
                        [
                          0.3,
                          "#f1b6da"
                        ],
                        [
                          0.4,
                          "#fde0ef"
                        ],
                        [
                          0.5,
                          "#f7f7f7"
                        ],
                        [
                          0.6,
                          "#e6f5d0"
                        ],
                        [
                          0.7,
                          "#b8e186"
                        ],
                        [
                          0.8,
                          "#7fbc41"
                        ],
                        [
                          0.9,
                          "#4d9221"
                        ],
                        [
                          1,
                          "#276419"
                        ]
                      ],
                      "sequential": [
                        [
                          0,
                          "#0d0887"
                        ],
                        [
                          0.1111111111111111,
                          "#46039f"
                        ],
                        [
                          0.2222222222222222,
                          "#7201a8"
                        ],
                        [
                          0.3333333333333333,
                          "#9c179e"
                        ],
                        [
                          0.4444444444444444,
                          "#bd3786"
                        ],
                        [
                          0.5555555555555556,
                          "#d8576b"
                        ],
                        [
                          0.6666666666666666,
                          "#ed7953"
                        ],
                        [
                          0.7777777777777778,
                          "#fb9f3a"
                        ],
                        [
                          0.8888888888888888,
                          "#fdca26"
                        ],
                        [
                          1,
                          "#f0f921"
                        ]
                      ],
                      "sequentialminus": [
                        [
                          0,
                          "#0d0887"
                        ],
                        [
                          0.1111111111111111,
                          "#46039f"
                        ],
                        [
                          0.2222222222222222,
                          "#7201a8"
                        ],
                        [
                          0.3333333333333333,
                          "#9c179e"
                        ],
                        [
                          0.4444444444444444,
                          "#bd3786"
                        ],
                        [
                          0.5555555555555556,
                          "#d8576b"
                        ],
                        [
                          0.6666666666666666,
                          "#ed7953"
                        ],
                        [
                          0.7777777777777778,
                          "#fb9f3a"
                        ],
                        [
                          0.8888888888888888,
                          "#fdca26"
                        ],
                        [
                          1,
                          "#f0f921"
                        ]
                      ]
                    },
                    "colorway": [
                      "#636efa",
                      "#EF553B",
                      "#00cc96",
                      "#ab63fa",
                      "#FFA15A",
                      "#19d3f3",
                      "#FF6692",
                      "#B6E880",
                      "#FF97FF",
                      "#FECB52"
                    ],
                    "font": {
                      "color": "#2a3f5f"
                    },
                    "geo": {
                      "bgcolor": "white",
                      "lakecolor": "white",
                      "landcolor": "#E5ECF6",
                      "showlakes": true,
                      "showland": true,
                      "subunitcolor": "white"
                    },
                    "hoverlabel": {
                      "align": "left"
                    },
                    "hovermode": "closest",
                    "mapbox": {
                      "style": "light"
                    },
                    "paper_bgcolor": "white",
                    "plot_bgcolor": "#E5ECF6",
                    "polar": {
                      "angularaxis": {
                        "gridcolor": "white",
                        "linecolor": "white",
                        "ticks": ""
                      },
                      "bgcolor": "#E5ECF6",
                      "radialaxis": {
                        "gridcolor": "white",
                        "linecolor": "white",
                        "ticks": ""
                      }
                    },
                    "scene": {
                      "xaxis": {
                        "backgroundcolor": "#E5ECF6",
                        "gridcolor": "white",
                        "gridwidth": 2,
                        "linecolor": "white",
                        "showbackground": true,
                        "ticks": "",
                        "zerolinecolor": "white"
                      },
                      "yaxis": {
                        "backgroundcolor": "#E5ECF6",
                        "gridcolor": "white",
                        "gridwidth": 2,
                        "linecolor": "white",
                        "showbackground": true,
                        "ticks": "",
                        "zerolinecolor": "white"
                      },
                      "zaxis": {
                        "backgroundcolor": "#E5ECF6",
                        "gridcolor": "white",
                        "gridwidth": 2,
                        "linecolor": "white",
                        "showbackground": true,
                        "ticks": "",
                        "zerolinecolor": "white"
                      }
                    },
                    "shapedefaults": {
                      "line": {
                        "color": "#2a3f5f"
                      }
                    },
                    "ternary": {
                      "aaxis": {
                        "gridcolor": "white",
                        "linecolor": "white",
                        "ticks": ""
                      },
                      "baxis": {
                        "gridcolor": "white",
                        "linecolor": "white",
                        "ticks": ""
                      },
                      "bgcolor": "#E5ECF6",
                      "caxis": {
                        "gridcolor": "white",
                        "linecolor": "white",
                        "ticks": ""
                      }
                    },
                    "title": {
                      "x": 0.05
                    },
                    "xaxis": {
                      "automargin": true,
                      "gridcolor": "white",
                      "linecolor": "white",
                      "ticks": "",
                      "title": {
                        "standoff": 15
                      },
                      "zerolinecolor": "white",
                      "zerolinewidth": 2
                    },
                    "yaxis": {
                      "automargin": true,
                      "gridcolor": "white",
                      "linecolor": "white",
                      "ticks": "",
                      "title": {
                        "standoff": 15
                      },
                      "zerolinecolor": "white",
                      "zerolinewidth": 2
                    }
                  }
                },
                "title": {
                  "text": "Mediana de Assets por Symbol con Repeticiones (Excluyendo Repeticiones Únicas)"
                },
                "xaxis": {
                  "anchor": "y",
                  "domain": [
                    0,
                    1
                  ],
                  "tickangle": 45,
                  "title": {
                    "text": "Symbol"
                  }
                },
                "yaxis": {
                  "anchor": "x",
                  "domain": [
                    0,
                    1
                  ],
                  "title": {
                    "text": "Median Assets"
                  }
                }
              }
            }
          },
          "metadata": {},
          "output_type": "display_data"
        }
      ],
      "source": [
        "### Portafolio de activos recurrentes ###\n",
        "# Repeticiones\n",
        "symbol_repetitions = df_activos_repiten['Symbol'].value_counts().reset_index()\n",
        "symbol_repetitions.columns = ['Symbol', 'Repetitions']\n",
        "# Filtrar\n",
        "symbol_repetitions = symbol_repetitions[symbol_repetitions['Repetitions'] > 1]\n",
        "# Mediana\n",
        "median_assets_by_symbol = df_activos_repiten[df_activos_repiten['Symbol'].isin(symbol_repetitions['Symbol'])]\n",
        "median_assets_by_symbol = median_assets_by_symbol.groupby('Symbol')['Assets'].median().reset_index()\n",
        "median_assets_by_symbol.columns = ['Symbol', 'Median_Assets']\n",
        "# Obtener el nombre\n",
        "name_by_symbol = df_activos_repiten.groupby('Symbol')['Name'].first().reset_index()\n",
        "# Ordenar resultado\n",
        "median_assets_by_symbol = median_assets_by_symbol.sort_values(by='Median_Assets', ascending=False)\n",
        "# Visualizar\n",
        "fig = px.bar(median_assets_by_symbol, x='Symbol', y='Median_Assets', color=symbol_repetitions['Repetitions'],\n",
        "             color_continuous_scale=px.colors.sequential.Viridis,\n",
        "             labels={'Symbol': 'Symbol', 'Median_Assets': 'Median Assets', 'color': 'Repeticiones'},\n",
        "             title='Mediana de Assets por Symbol con Repeticiones (Excluyendo Repeticiones Únicas)')\n",
        "fig.update_xaxes(tickangle=45)\n",
        "fig.update_traces(text=name_by_symbol['Name'], textposition='outside')\n",
        "fig.update_layout(xaxis_title='Symbol', yaxis_title='Median Assets')\n",
        "fig.update_layout(coloraxis_showscale=False)\n",
        "fig.show()"
      ]
    },
    {
      "cell_type": "code",
      "execution_count": 28,
      "metadata": {},
      "outputs": [],
      "source": [
        "### Descarga de datos ###\n",
        "air = airtable.Airtable(base_id=base_id, table_name='tblkKLqcgl5dDo6uI', api_key=api_key)\n",
        "lista_de_diccionarios = air.get_all()\n",
        "lista_de_fields = [d['fields'] for d in lista_de_diccionarios]\n",
        "df_price_vol_temp = convertir_a_ancho(pd.DataFrame(lista_de_fields))"
      ]
    },
    {
      "cell_type": "code",
      "execution_count": 29,
      "metadata": {},
      "outputs": [
        {
          "data": {
            "image/png": "[encoded data removed]",
            "text/plain": [
              "<Figure size 640x480 with 1 Axes>"
            ]
          },
          "metadata": {},
          "output_type": "display_data"
        }
      ],
      "source": [
        "### Suma de los cambios porcentuales diarios del Top 25 ###\n",
        "# Sumamos todas las variaciones porcentuales para obtener la variación total\n",
        "total_pct_change = pd.DataFrame(df_price_vol_temp['Precio'].sum(axis=1))\n",
        "# Visualizar\n",
        "sns.histplot(total_pct_change, bins=100, kde=False, color=\"green\")\n",
        "# Distribución\n",
        "params = stats.norm.fit(total_pct_change)\n",
        "x = np.linspace(total_pct_change.min(), total_pct_change.max(), 100)\n",
        "y = stats.norm.pdf(x, *params)\n",
        "plt.plot(x, y, color=\"red\") \n",
        "plt.show()"
      ]
    },
    {
      "cell_type": "code",
      "execution_count": 48,
      "metadata": {},
      "outputs": [
        {
          "data": {
            "image/png": "[encoded data removed]",
            "text/plain": [
              "<Figure size 640x480 with 1 Axes>"
            ]
          },
          "metadata": {},
          "output_type": "display_data"
        }
      ],
      "source": [
        "df_capital = (df_price_vol_temp['Precio'] + 1).cumprod().sum(axis=1)\n",
        "df_capital.plot()\n",
        "plt.show()"
      ]
    }
  ],
  "metadata": {
    "colab": {
      "collapsed_sections": [
        "qbZkKpyC9AEK",
        "Fe2VYO2XiTyD",
        "hmhqF1XRBXjT",
        "t5ckS1EcBdJw",
        "SLyPfgjRBiLZ"
      ],
      "include_colab_link": true,
      "provenance": []
    },
    "kernelspec": {
      "display_name": "Python 3",
      "name": "python3"
    },
    "language_info": {
      "codemirror_mode": {
        "name": "ipython",
        "version": 3
      },
      "file_extension": ".py",
      "mimetype": "text/x-python",
      "name": "python",
      "nbconvert_exporter": "python",
      "pygments_lexer": "ipython3",
      "version": "3.11.6"
    }
  },
  "nbformat": 4,
  "nbformat_minor": 0
}
